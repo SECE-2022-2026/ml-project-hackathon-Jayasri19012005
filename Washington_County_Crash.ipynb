{
  "nbformat": 4,
  "nbformat_minor": 0,
  "metadata": {
    "colab": {
      "provenance": []
    },
    "kernelspec": {
      "name": "python3",
      "display_name": "Python 3"
    },
    "language_info": {
      "name": "python"
    }
  },
  "cells": [
    {
      "cell_type": "markdown",
      "source": [
        "# **PROBLEM STATEMENT:**\n",
        "\n",
        "# ** To predict the Crash incident reported to the police in Washington County from 2011 to 2015.**"
      ],
      "metadata": {
        "id": "jeJrRp7fMPjR"
      }
    },
    {
      "cell_type": "code",
      "execution_count": 16,
      "metadata": {
        "colab": {
          "base_uri": "https://localhost:8080/"
        },
        "id": "ac46HIQfh8zd",
        "outputId": "f57744c9-16a8-42d2-d76b-70ee0e831882"
      },
      "outputs": [
        {
          "output_type": "execute_result",
          "data": {
            "text/plain": [
              "(    Code              Municipality\n",
              " 0  62216           Morris Township\n",
              " 1  62217   Mount Pleasant Township\n",
              " 2  62218  North Bethlehem Township\n",
              " 3  62219   North Franklin Township\n",
              " 4  62220   North Strabane Township,\n",
              "     Code            Policy Agency\n",
              " 0  62101  East Bethlehem Township\n",
              " 1  62205         Carroll Township\n",
              " 2  62206           Cecil Township\n",
              " 3  62207       Chartiers Township\n",
              " 4  62209         Donegal Township,\n",
              "     CRASH_CRN  DISTRICT  CRASH_COUNTY  MUNICIPALITY POLICE_AGCY  CRASH_YEAR  \\\n",
              " 0  2011000084        12            62         62424       62301        2011   \n",
              " 1  2011001835        12            62         62302       68B01        2011   \n",
              " 2  2011001997        12            62         62302       62302        2011   \n",
              " 3  2011002227        12            62         62302       62302        2011   \n",
              " 4  2011002261        12            62         62403       68B02        2011   \n",
              " \n",
              "    CRASH_MONTH  DAY_OF_WEEK  TIME_OF_DAY  HOUR_OF_DAY  ...  ACCESS_CTRL  \\\n",
              " 0            1            7          248            2  ...          NaN   \n",
              " 1            1            1         1347           13  ...          1.0   \n",
              " 2            1            7         2249           22  ...          3.0   \n",
              " 3            1            7          824            8  ...          2.0   \n",
              " 4            1            1         1810           18  ...          1.0   \n",
              " \n",
              "    ROADWAY_COUNTY  LANE_COUNT  RDWY_ORIENT  ROAD_OWNER  ROUTE  SPEED_LIMIT  \\\n",
              " 0              62           2            E           4    NaN         25.0   \n",
              " 1              62           2            W           1     70         55.0   \n",
              " 2              62           2            W           2     40         35.0   \n",
              " 3              62           2            N           2     18         35.0   \n",
              " 4              62           2            E           1     70         55.0   \n",
              " \n",
              "    SEGMENT  OFFSET   STREET_NAME  \n",
              " 0      NaN     NaN   SYCAMORE ST  \n",
              " 1    165.0  1444.0    SR 0070 SH  \n",
              " 2    361.0  1255.0  JEFFERSON AV  \n",
              " 3    370.0     0.0  JEFFERSON AV  \n",
              " 4    330.0   128.0    SR 0070 SH  \n",
              " \n",
              " [5 rows x 188 columns])"
            ]
          },
          "metadata": {},
          "execution_count": 16
        }
      ],
      "source": [
        "import pandas as pd\n",
        "import numpy as np\n",
        "\n",
        "municipal_code_df = pd.read_csv('/content/washingtonmunicipalcode.csv')\n",
        "police_agency_code_df = pd.read_csv('/content/washingtonpoliceagencycode.csv')\n",
        "crash_2011_df = pd.read_csv('/content/2011washington.csv')\n",
        "crash_2012_df = pd.read_csv('/content/2012washington.csv')\n",
        "crash_2014_df = pd.read_csv('/content/2014washington.csv')\n",
        "crash_2015_df = pd.read_csv('/content/2015washington.csv')\n",
        "crash_additional_df = pd.read_csv('/content/aeeb1559-a410-4c30-ab3f-0dc20c58bea1.csv')\n",
        "\n",
        "municipal_code_df.head(), police_agency_code_df.head(), crash_2011_df.head()"
      ]
    },
    {
      "cell_type": "code",
      "source": [
        "#Data Cleaning and Data  Preprocessing\n",
        "\n",
        "# Merge crash data from different years\n",
        "crash_data = pd.concat([crash_2011_df, crash_2012_df, crash_2014_df, crash_2015_df, crash_additional_df], ignore_index=True)\n",
        "\n",
        "# Ensure POLICE_AGCY is of the same type in both dataframes,string\n",
        "crash_data['POLICE_AGCY'] = crash_data['POLICE_AGCY'].astype(str)\n",
        "police_agency_code_df['Code'] = police_agency_code_df['Code'].astype(str)\n",
        "\n",
        "# Enrich the crash data by adding information municipal and police agency codes\n",
        "crash_data = crash_data.merge(municipal_code_df, left_on='MUNICIPALITY', right_on='Code', how='left')\n",
        "crash_data = crash_data.merge(police_agency_code_df, left_on='POLICE_AGCY', right_on='Code', how='left')\n",
        "\n",
        "crash_data.drop(columns=['Code_x', 'Code_y'], inplace=True)\n",
        "\n",
        "# Convert date-related columns to appropriate types\n",
        "crash_data['CRASH_DATE'] = pd.to_datetime(crash_data['CRASH_YEAR'].astype(str) + '-' + crash_data['CRASH_MONTH'].astype(str) + '-01')\n",
        "\n",
        "# Missing values\n",
        "crash_data.isnull().sum()"
      ],
      "metadata": {
        "colab": {
          "base_uri": "https://localhost:8080/",
          "height": 458
        },
        "id": "ZY5T__VujLcx",
        "outputId": "f4529d7b-1bc9-4089-91ad-47521decdfd5"
      },
      "execution_count": 11,
      "outputs": [
        {
          "output_type": "execute_result",
          "data": {
            "text/plain": [
              "CRASH_CRN           0\n",
              "DISTRICT            0\n",
              "CRASH_COUNTY        0\n",
              "MUNICIPALITY        0\n",
              "POLICE_AGCY         0\n",
              "                 ... \n",
              "STREET_NAME        62\n",
              "_id              8025\n",
              "Municipality        0\n",
              "Policy Agency    5018\n",
              "CRASH_DATE          0\n",
              "Length: 192, dtype: int64"
            ],
            "text/html": [
              "<div>\n",
              "<style scoped>\n",
              "    .dataframe tbody tr th:only-of-type {\n",
              "        vertical-align: middle;\n",
              "    }\n",
              "\n",
              "    .dataframe tbody tr th {\n",
              "        vertical-align: top;\n",
              "    }\n",
              "\n",
              "    .dataframe thead th {\n",
              "        text-align: right;\n",
              "    }\n",
              "</style>\n",
              "<table border=\"1\" class=\"dataframe\">\n",
              "  <thead>\n",
              "    <tr style=\"text-align: right;\">\n",
              "      <th></th>\n",
              "      <th>0</th>\n",
              "    </tr>\n",
              "  </thead>\n",
              "  <tbody>\n",
              "    <tr>\n",
              "      <th>CRASH_CRN</th>\n",
              "      <td>0</td>\n",
              "    </tr>\n",
              "    <tr>\n",
              "      <th>DISTRICT</th>\n",
              "      <td>0</td>\n",
              "    </tr>\n",
              "    <tr>\n",
              "      <th>CRASH_COUNTY</th>\n",
              "      <td>0</td>\n",
              "    </tr>\n",
              "    <tr>\n",
              "      <th>MUNICIPALITY</th>\n",
              "      <td>0</td>\n",
              "    </tr>\n",
              "    <tr>\n",
              "      <th>POLICE_AGCY</th>\n",
              "      <td>0</td>\n",
              "    </tr>\n",
              "    <tr>\n",
              "      <th>...</th>\n",
              "      <td>...</td>\n",
              "    </tr>\n",
              "    <tr>\n",
              "      <th>STREET_NAME</th>\n",
              "      <td>62</td>\n",
              "    </tr>\n",
              "    <tr>\n",
              "      <th>_id</th>\n",
              "      <td>8025</td>\n",
              "    </tr>\n",
              "    <tr>\n",
              "      <th>Municipality</th>\n",
              "      <td>0</td>\n",
              "    </tr>\n",
              "    <tr>\n",
              "      <th>Policy Agency</th>\n",
              "      <td>5018</td>\n",
              "    </tr>\n",
              "    <tr>\n",
              "      <th>CRASH_DATE</th>\n",
              "      <td>0</td>\n",
              "    </tr>\n",
              "  </tbody>\n",
              "</table>\n",
              "<p>192 rows × 1 columns</p>\n",
              "</div><br><label><b>dtype:</b> int64</label>"
            ]
          },
          "metadata": {},
          "execution_count": 11
        }
      ]
    },
    {
      "cell_type": "code",
      "source": [
        "#Predictive Modeling\n",
        "\n",
        "from sklearn.model_selection import train_test_split\n",
        "from sklearn.linear_model import LogisticRegression\n",
        "from sklearn.metrics import accuracy_score, classification_report\n",
        "\n",
        "# Subset of columns used to predict the target variable\n",
        "features = ['WEATHER', 'ROAD_CONDITION', 'HOUR_OF_DAY', 'DAY_OF_WEEK']\n",
        "X = crash_data[features]\n",
        "y = crash_data['MAX_SEVERITY_LEVEL'] #want to predict\n",
        "\n",
        "X_train, X_test, y_train, y_test = train_test_split(X, y, test_size=0.3, random_state=42)\n",
        "\n",
        "# Initialize and train the logistic regression model,binary classification\n",
        "model = LogisticRegression(max_iter=1000)\n",
        "model.fit(X_train, y_train) #Train the model on the training data.\n",
        "\n",
        "# Make predictions,Use the trained model to predict MAX_SEVERITY_LEVEL for the test set.\n",
        "y_pred = model.predict(X_test)\n",
        "\n",
        "# Evaluate the model\n",
        "accuracy = accuracy_score(y_test, y_pred)\n",
        "report = classification_report(y_test, y_pred)\n",
        "accuracy, report"
      ],
      "metadata": {
        "colab": {
          "base_uri": "https://localhost:8080/"
        },
        "id": "03os36QpjuCy",
        "outputId": "eeb55cfd-69e4-4908-a7bc-e5e7eb76e28b"
      },
      "execution_count": 12,
      "outputs": [
        {
          "output_type": "execute_result",
          "data": {
            "text/plain": [
              "(0.5163224516988674,\n",
              " '              precision    recall  f1-score   support\\n\\n           0       0.52      1.00      0.68      1550\\n           1       0.00      0.00      0.00        41\\n           2       0.00      0.00      0.00       103\\n           3       0.00      0.00      0.00       231\\n           4       0.00      0.00      0.00       628\\n           8       0.00      0.00      0.00       370\\n           9       0.00      0.00      0.00        79\\n\\n    accuracy                           0.52      3002\\n   macro avg       0.07      0.14      0.10      3002\\nweighted avg       0.27      0.52      0.35      3002\\n')"
            ]
          },
          "metadata": {},
          "execution_count": 12
        }
      ]
    }
  ]
}